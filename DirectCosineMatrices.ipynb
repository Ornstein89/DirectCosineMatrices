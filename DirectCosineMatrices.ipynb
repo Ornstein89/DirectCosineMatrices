{
 "cells": [
  {
   "cell_type": "markdown",
   "metadata": {},
   "source": [
    "# Матрицы направляющих косинусов"
   ]
  },
  {
   "cell_type": "markdown",
   "metadata": {},
   "source": [
    "## Инициализация"
   ]
  },
  {
   "cell_type": "code",
   "execution_count": null,
   "metadata": {},
   "outputs": [],
   "source": [
    "# если не установлены пакеты  Python - запустите эту ячейку с установочным скриптом\n",
    "# if several packages are not installed - run this cell\n",
    "!python -m pip install numpy sympy ipywidgets matplotlib --user"
   ]
  },
  {
   "cell_type": "code",
   "execution_count": 1,
   "metadata": {},
   "outputs": [],
   "source": [
    "%config IPCompleter.greedy=True\n",
    "# %matplotlib notebook # use in case of simple jupyter notebook\n",
    "%matplotlib widget # use in case of jupyter lab\n",
    "import sympy as sp\n",
    "from sympy import *\n",
    "from sympy.interactive import printing\n",
    "from sympy import pi\n",
    "from sympy.matrices import rot_axis1, rot_axis2, rot_axis3\n",
    "from ipywidgets import *\n",
    "import matplotlib.pyplot as plt\n",
    "from mpl_toolkits.mplot3d import axes3d   \n",
    "import numpy as np\n",
    "# init_printing(use_unicode=True)\n",
    "init_printing(use_latex=True)"
   ]
  },
  {
   "cell_type": "markdown",
   "metadata": {},
   "source": [
    "## Элементарные матрицы поворота / X, Y, Z-rotation matrices"
   ]
  },
  {
   "cell_type": "code",
   "execution_count": 2,
   "metadata": {},
   "outputs": [
    {
     "name": "stdout",
     "output_type": "stream",
     "text": [
      "Элементарная матрица поворота по X\n"
     ]
    },
    {
     "data": {
      "text/latex": [
       "$\\displaystyle \\left[\\begin{matrix}1 & 0 & 0\\\\0 & \\cos{\\left(\\alpha_x \\right)} & \\sin{\\left(\\alpha_x \\right)}\\\\0 & - \\sin{\\left(\\alpha_x \\right)} & \\cos{\\left(\\alpha_x \\right)}\\end{matrix}\\right]$"
      ],
      "text/plain": [
       "⎡1        0             0      ⎤\n",
       "⎢                              ⎥\n",
       "⎢0  cos(\\alphaₓ)   sin(\\alphaₓ)⎥\n",
       "⎢                              ⎥\n",
       "⎣0  -sin(\\alphaₓ)  cos(\\alphaₓ)⎦"
      ]
     },
     "metadata": {},
     "output_type": "display_data"
    },
    {
     "name": "stdout",
     "output_type": "stream",
     "text": [
      "Элементарная матрица поворота по Y\n"
     ]
    },
    {
     "data": {
      "text/latex": [
       "$\\displaystyle \\left[\\begin{matrix}\\cos{\\left(\\alpha_y \\right)} & 0 & - \\sin{\\left(\\alpha_y \\right)}\\\\0 & 1 & 0\\\\\\sin{\\left(\\alpha_y \\right)} & 0 & \\cos{\\left(\\alpha_y \\right)}\\end{matrix}\\right]$"
      ],
      "text/plain": [
       "⎡cos(\\alpha_y)  0  -sin(\\alpha_y)⎤\n",
       "⎢                                ⎥\n",
       "⎢      0        1        0       ⎥\n",
       "⎢                                ⎥\n",
       "⎣sin(\\alpha_y)  0  cos(\\alpha_y) ⎦"
      ]
     },
     "metadata": {},
     "output_type": "display_data"
    },
    {
     "name": "stdout",
     "output_type": "stream",
     "text": [
      "Элементарная матрица поворота по Z\n"
     ]
    },
    {
     "data": {
      "text/latex": [
       "$\\displaystyle \\left[\\begin{matrix}\\cos{\\left(\\alpha_z \\right)} & \\sin{\\left(\\alpha_z \\right)} & 0\\\\- \\sin{\\left(\\alpha_z \\right)} & \\cos{\\left(\\alpha_z \\right)} & 0\\\\0 & 0 & 1\\end{matrix}\\right]$"
      ],
      "text/plain": [
       "⎡cos(\\alpha_z)   sin(\\alpha_z)  0⎤\n",
       "⎢                                ⎥\n",
       "⎢-sin(\\alpha_z)  cos(\\alpha_z)  0⎥\n",
       "⎢                                ⎥\n",
       "⎣      0               0        1⎦"
      ]
     },
     "metadata": {},
     "output_type": "display_data"
    }
   ],
   "source": [
    "alpha_x, alpha_y, alpha_z = symbols('\\\\alpha_x \\\\alpha_y \\\\alpha_z')\n",
    "print(\"Элементарная матрица поворота по X\")\n",
    "display(rot_axis1(alpha_x))\n",
    "print(\"Элементарная матрица поворота по Y\")\n",
    "display(rot_axis2(alpha_y))\n",
    "print(\"Элементарная матрица поворота по Z\")\n",
    "display(rot_axis3(alpha_z))"
   ]
  },
  {
   "cell_type": "markdown",
   "metadata": {},
   "source": [
    "## НЗСК 🡆 связанная / Earth 🡆 body"
   ]
  },
  {
   "cell_type": "code",
   "execution_count": 3,
   "metadata": {},
   "outputs": [
    {
     "name": "stdout",
     "output_type": "stream",
     "text": [
      "Заданы обозначения для крена, тангажа и рысканья (roll, pytch, yaw symbols introduced):\n"
     ]
    },
    {
     "data": {
      "image/png": "[encoded data removed]",
      "text/latex": [
       "$\\displaystyle \\left[ \\gamma, \\  \\vartheta, \\  \\psi\\right]$"
      ],
      "text/plain": [
       "[\\gamma, \\vartheta, \\psi]"
      ]
     },
     "metadata": {},
     "output_type": "display_data"
    }
   ],
   "source": [
    "roll, pitch, yaw = symbols('\\\\gamma \\\\vartheta \\\\psi')\n",
    "print(\"Заданы обозначения для крена, тангажа и рысканья (roll, pytch, yaw symbols introduced):\")\n",
    "display([roll, pitch, yaw])"
   ]
  },
  {
   "cell_type": "code",
   "execution_count": 4,
   "metadata": {},
   "outputs": [
    {
     "data": {
      "text/latex": [
       "$\\displaystyle \\left[\\begin{matrix}\\cos{\\left(\\psi \\right)} \\cos{\\left(\\vartheta \\right)} & \\sin{\\left(\\vartheta \\right)} & - \\sin{\\left(\\psi \\right)} \\cos{\\left(\\vartheta \\right)}\\\\\\sin{\\left(\\gamma \\right)} \\sin{\\left(\\psi \\right)} - \\sin{\\left(\\vartheta \\right)} \\cos{\\left(\\gamma \\right)} \\cos{\\left(\\psi \\right)} & \\cos{\\left(\\gamma \\right)} \\cos{\\left(\\vartheta \\right)} & \\sin{\\left(\\gamma \\right)} \\cos{\\left(\\psi \\right)} + \\sin{\\left(\\psi \\right)} \\sin{\\left(\\vartheta \\right)} \\cos{\\left(\\gamma \\right)}\\\\\\sin{\\left(\\gamma \\right)} \\sin{\\left(\\vartheta \\right)} \\cos{\\left(\\psi \\right)} + \\sin{\\left(\\psi \\right)} \\cos{\\left(\\gamma \\right)} & - \\sin{\\left(\\gamma \\right)} \\cos{\\left(\\vartheta \\right)} & - \\sin{\\left(\\gamma \\right)} \\sin{\\left(\\psi \\right)} \\sin{\\left(\\vartheta \\right)} + \\cos{\\left(\\gamma \\right)} \\cos{\\left(\\psi \\right)}\\end{matrix}\\right]$"
      ],
      "text/plain": [
       "⎡                  cos(\\psi)⋅cos(\\vartheta)                          sin(\\vart\n",
       "⎢                                                                             \n",
       "⎢sin(\\gamma)⋅sin(\\psi) - sin(\\vartheta)⋅cos(\\gamma)⋅cos(\\psi)  cos(\\gamma)⋅cos\n",
       "⎢                                                                             \n",
       "⎣sin(\\gamma)⋅sin(\\vartheta)⋅cos(\\psi) + sin(\\psi)⋅cos(\\gamma)  -sin(\\gamma)⋅co\n",
       "\n",
       "heta)                           -sin(\\psi)⋅cos(\\vartheta)                  ⎤\n",
       "                                                                           ⎥\n",
       "(\\vartheta)   sin(\\gamma)⋅cos(\\psi) + sin(\\psi)⋅sin(\\vartheta)⋅cos(\\gamma) ⎥\n",
       "                                                                           ⎥\n",
       "s(\\vartheta)  -sin(\\gamma)⋅sin(\\psi)⋅sin(\\vartheta) + cos(\\gamma)⋅cos(\\psi)⎦"
      ]
     },
     "execution_count": 4,
     "metadata": {},
     "output_type": "execute_result"
    }
   ],
   "source": [
    "# результат совпадает с Дмитриевским\n",
    "MatNorm2Body=rot_axis1(roll) * rot_axis3(pitch) * rot_axis2(yaw)\n",
    "MatNorm2Body"
   ]
  },
  {
   "cell_type": "markdown",
   "metadata": {},
   "source": [
    "## НЗСК 🡆 траекторная"
   ]
  },
  {
   "cell_type": "code",
   "execution_count": 5,
   "metadata": {},
   "outputs": [
    {
     "name": "stdout",
     "output_type": "stream",
     "text": [
      "Заданы обозначения для угла наклона траектории и угла поворта траектории:\n"
     ]
    },
    {
     "data": {
      "image/png": "[encoded data removed]",
      "text/latex": [
       "$\\displaystyle \\left[ \\Theta, \\  \\Psi\\right]$"
      ],
      "text/plain": [
       "[\\Theta, \\Psi]"
      ]
     },
     "metadata": {},
     "output_type": "display_data"
    }
   ],
   "source": [
    "Theta, Psi = symbols(\"\\\\Theta \\\\Psi\")\n",
    "print(\"Заданы обозначения для угла наклона траектории и угла поворта траектории:\")\n",
    "display([Theta, Psi])"
   ]
  },
  {
   "cell_type": "code",
   "execution_count": 6,
   "metadata": {},
   "outputs": [
    {
     "data": {
      "text/latex": [
       "$\\displaystyle \\left[\\begin{matrix}\\cos{\\left(\\Psi \\right)} \\cos{\\left(\\Theta \\right)} & \\sin{\\left(\\Theta \\right)} & - \\sin{\\left(\\Psi \\right)} \\cos{\\left(\\Theta \\right)}\\\\- \\sin{\\left(\\Theta \\right)} \\cos{\\left(\\Psi \\right)} & \\cos{\\left(\\Theta \\right)} & \\sin{\\left(\\Psi \\right)} \\sin{\\left(\\Theta \\right)}\\\\\\sin{\\left(\\Psi \\right)} & 0 & \\cos{\\left(\\Psi \\right)}\\end{matrix}\\right]$"
      ],
      "text/plain": [
       "⎡cos(\\Psi)⋅cos(\\Theta)   sin(\\Theta)  -sin(\\Psi)⋅cos(\\Theta)⎤\n",
       "⎢                                                           ⎥\n",
       "⎢-sin(\\Theta)⋅cos(\\Psi)  cos(\\Theta)  sin(\\Psi)⋅sin(\\Theta) ⎥\n",
       "⎢                                                           ⎥\n",
       "⎣      sin(\\Psi)              0             cos(\\Psi)       ⎦"
      ]
     },
     "execution_count": 6,
     "metadata": {},
     "output_type": "execute_result"
    }
   ],
   "source": [
    "# результат совпадает с Дмитриевским\n",
    "MatTraj2Norm= rot_axis3(Theta) * rot_axis2(Psi)\n",
    "# MatTraj2Norm=MatTraj2Norm.transpose()\n",
    "MatTraj2Norm"
   ]
  },
  {
   "cell_type": "markdown",
   "metadata": {},
   "source": [
    "## Скоростная 🡆 траекторная"
   ]
  },
  {
   "cell_type": "code",
   "execution_count": 7,
   "metadata": {},
   "outputs": [
    {
     "name": "stdout",
     "output_type": "stream",
     "text": [
      "Задано обозначение для скоростного угла крена:\n"
     ]
    },
    {
     "data": {
      "image/png": "[encoded data removed]",
      "text/latex": [
       "$\\displaystyle \\gamma_s$"
      ],
      "text/plain": [
       "\\gammaₛ"
      ]
     },
     "metadata": {},
     "output_type": "display_data"
    }
   ],
   "source": [
    "gamma_s = symbols(\"\\\\gamma_s\")\n",
    "print(\"Задано обозначение для скоростного угла крена:\")\n",
    "display(gamma_s)"
   ]
  },
  {
   "cell_type": "code",
   "execution_count": 8,
   "metadata": {},
   "outputs": [
    {
     "data": {
      "text/latex": [
       "$\\displaystyle \\left[\\begin{matrix}1 & 0 & 0\\\\0 & \\cos{\\left(\\gamma_s \\right)} & - \\sin{\\left(\\gamma_s \\right)}\\\\0 & \\sin{\\left(\\gamma_s \\right)} & \\cos{\\left(\\gamma_s \\right)}\\end{matrix}\\right]$"
      ],
      "text/plain": [
       "⎡1       0              0      ⎤\n",
       "⎢                              ⎥\n",
       "⎢0  cos(\\gammaₛ)  -sin(\\gammaₛ)⎥\n",
       "⎢                              ⎥\n",
       "⎣0  sin(\\gammaₛ)  cos(\\gammaₛ) ⎦"
      ]
     },
     "execution_count": 8,
     "metadata": {},
     "output_type": "execute_result"
    }
   ],
   "source": [
    "# проверена по Дмитриевскому\n",
    "MatWind2Traj = rot_axis1(-gamma_s)\n",
    "MatWind2Traj"
   ]
  },
  {
   "cell_type": "markdown",
   "metadata": {},
   "source": [
    "## Связанная 🡆 связанная с пространственным углом атаки / Body ref.system 🡆 Spatial AOA ref.system"
   ]
  },
  {
   "cell_type": "code",
   "execution_count": 9,
   "metadata": {},
   "outputs": [
    {
     "name": "stdout",
     "output_type": "stream",
     "text": [
      "Заданы обозначения пространственного угла атаки и крена:\n"
     ]
    },
    {
     "data": {
      "image/png": "[encoded data removed]",
      "text/latex": [
       "$\\displaystyle \\left[ \\alpha_п, \\  \\gamma_п\\right]$"
      ],
      "text/plain": [
       "[\\alpha_п, \\gamma_п]"
      ]
     },
     "metadata": {},
     "output_type": "display_data"
    }
   ],
   "source": [
    "alpha_p, gamma_p = symbols(\"\\\\alpha_п \\\\gamma_п\")\n",
    "print(\"Заданы обозначения пространственного угла атаки и крена:\")\n",
    "display([alpha_p, gamma_p])"
   ]
  },
  {
   "cell_type": "code",
   "execution_count": 10,
   "metadata": {},
   "outputs": [
    {
     "data": {
      "text/latex": [
       "$\\displaystyle \\left[\\begin{matrix}\\cos{\\left(\\alpha_п \\right)} & - \\sin{\\left(\\alpha_п \\right)} \\cos{\\left(\\gamma_п \\right)} & - \\sin{\\left(\\alpha_п \\right)} \\sin{\\left(\\gamma_п \\right)}\\\\\\sin{\\left(\\alpha_п \\right)} & \\cos{\\left(\\alpha_п \\right)} \\cos{\\left(\\gamma_п \\right)} & \\sin{\\left(\\gamma_п \\right)} \\cos{\\left(\\alpha_п \\right)}\\\\0 & - \\sin{\\left(\\gamma_п \\right)} & \\cos{\\left(\\gamma_п \\right)}\\end{matrix}\\right]$"
      ],
      "text/plain": [
       "⎡cos(\\alpha_п)  -sin(\\alpha_п)⋅cos(\\gamma_п)  -sin(\\alpha_п)⋅sin(\\gamma_п)⎤\n",
       "⎢                                                                         ⎥\n",
       "⎢sin(\\alpha_п)  cos(\\alpha_п)⋅cos(\\gamma_п)   sin(\\gamma_п)⋅cos(\\alpha_п) ⎥\n",
       "⎢                                                                         ⎥\n",
       "⎣      0               -sin(\\gamma_п)                cos(\\gamma_п)        ⎦"
      ]
     },
     "execution_count": 10,
     "metadata": {},
     "output_type": "execute_result"
    }
   ],
   "source": [
    "# НЕ ПРОВЕРЕНА - нет источников\n",
    "# проверена по отдельным матрицам\n",
    "MatBody2Spatial = rot_axis3(-alpha_p) * rot_axis1(gamma_p)\n",
    "MatBody2Spatial"
   ]
  },
  {
   "cell_type": "markdown",
   "metadata": {},
   "source": [
    "## Связанная 🡆 скоростная / Body 🡆 wind ref.system"
   ]
  },
  {
   "cell_type": "code",
   "execution_count": 11,
   "metadata": {},
   "outputs": [
    {
     "name": "stdout",
     "output_type": "stream",
     "text": [
      "Заданы обозначения пространственного углов атаки и спольжения (angle of attack and sideslip angle symbols introduced):\n"
     ]
    },
    {
     "data": {
      "image/png": "[encoded data removed]",
      "text/latex": [
       "$\\displaystyle \\left[ \\alpha_п, \\  \\gamma_п\\right]$"
      ],
      "text/plain": [
       "[\\alpha_п, \\gamma_п]"
      ]
     },
     "metadata": {},
     "output_type": "display_data"
    }
   ],
   "source": [
    "alpha, beta = symbols(\"\\\\alpha \\\\beta\")\n",
    "print(\"Заданы обозначения пространственного углов атаки и спольжения (angle of attack and sideslip angle symbols introduced):\")\n",
    "display([alpha_p, gamma_p])"
   ]
  },
  {
   "cell_type": "code",
   "execution_count": 12,
   "metadata": {},
   "outputs": [
    {
     "data": {
      "text/latex": [
       "$\\displaystyle \\left[\\begin{matrix}\\cos{\\left(\\alpha \\right)} \\cos{\\left(\\beta \\right)} & - \\sin{\\left(\\alpha \\right)} \\cos{\\left(\\beta \\right)} & \\sin{\\left(\\beta \\right)}\\\\\\sin{\\left(\\alpha \\right)} & \\cos{\\left(\\alpha \\right)} & 0\\\\- \\sin{\\left(\\beta \\right)} \\cos{\\left(\\alpha \\right)} & \\sin{\\left(\\alpha \\right)} \\sin{\\left(\\beta \\right)} & \\cos{\\left(\\beta \\right)}\\end{matrix}\\right]$"
      ],
      "text/plain": [
       "⎡cos(\\alpha)⋅cos(\\beta)   -sin(\\alpha)⋅cos(\\beta)  sin(\\beta)⎤\n",
       "⎢                                                            ⎥\n",
       "⎢      sin(\\alpha)              cos(\\alpha)            0     ⎥\n",
       "⎢                                                            ⎥\n",
       "⎣-sin(\\beta)⋅cos(\\alpha)  sin(\\alpha)⋅sin(\\beta)   cos(\\beta)⎦"
      ]
     },
     "execution_count": 12,
     "metadata": {},
     "output_type": "execute_result"
    }
   ],
   "source": [
    "# проверена по ГОСТ\n",
    "MatBodyToWind = rot_axis2(-beta) * rot_axis3(-alpha)\n",
    "MatBodyToWind"
   ]
  },
  {
   "cell_type": "markdown",
   "metadata": {},
   "source": [
    "## Геоцентрическая 🡆 нормальная СК / ECEF 🡆 Earth ref.system"
   ]
  },
  {
   "cell_type": "code",
   "execution_count": 13,
   "metadata": {},
   "outputs": [
    {
     "name": "stdout",
     "output_type": "stream",
     "text": [
      "Заданы обозначения пространственного широты, долготы, азимута (latitude, longitude and azimuth introduced):\n"
     ]
    },
    {
     "data": {
      "image/png": "[encoded data removed]",
      "text/latex": [
       "$\\displaystyle \\left[ \\varphi, \\  \\lambda, \\  \\widehat{\\mathbf{Az}}\\right]$"
      ],
      "text/plain": [
       "[\\varphi, \\lambda, \\widehat{\\mathbf{Az}}]"
      ]
     },
     "metadata": {},
     "output_type": "display_data"
    }
   ],
   "source": [
    "lat, lon, azimuth = symbols('\\\\varphi \\\\lambda \\\\widehat{\\\\mathbf{Az}}')\n",
    "print(\"Заданы обозначения пространственного широты, долготы, азимута (latitude, longitude and azimuth introduced):\")\n",
    "display([lat, lon, azimuth])"
   ]
  },
  {
   "cell_type": "code",
   "execution_count": 14,
   "metadata": {},
   "outputs": [
    {
     "data": {
      "text/latex": [
       "$\\displaystyle \\left[\\begin{matrix}- \\sin{\\left(\\lambda \\right)} \\sin{\\left(\\widehat{\\mathbf{Az}} \\right)} - \\sin{\\left(\\varphi \\right)} \\cos{\\left(\\lambda \\right)} \\cos{\\left(\\widehat{\\mathbf{Az}} \\right)} & \\cos{\\left(\\varphi \\right)} \\cos{\\left(\\widehat{\\mathbf{Az}} \\right)} & \\sin{\\left(\\lambda \\right)} \\sin{\\left(\\varphi \\right)} \\cos{\\left(\\widehat{\\mathbf{Az}} \\right)} - \\sin{\\left(\\widehat{\\mathbf{Az}} \\right)} \\cos{\\left(\\lambda \\right)}\\\\\\sin{\\left(\\lambda \\right)} \\cos{\\left(\\widehat{\\mathbf{Az}} \\right)} - \\sin{\\left(\\varphi \\right)} \\sin{\\left(\\widehat{\\mathbf{Az}} \\right)} \\cos{\\left(\\lambda \\right)} & \\sin{\\left(\\widehat{\\mathbf{Az}} \\right)} \\cos{\\left(\\varphi \\right)} & \\sin{\\left(\\lambda \\right)} \\sin{\\left(\\varphi \\right)} \\sin{\\left(\\widehat{\\mathbf{Az}} \\right)} + \\cos{\\left(\\lambda \\right)} \\cos{\\left(\\widehat{\\mathbf{Az}} \\right)}\\\\\\cos{\\left(\\lambda \\right)} \\cos{\\left(\\varphi \\right)} & \\sin{\\left(\\varphi \\right)} & - \\sin{\\left(\\lambda \\right)} \\cos{\\left(\\varphi \\right)}\\end{matrix}\\right]$"
      ],
      "text/plain": [
       "⎡-sin(\\lambda)⋅sin(\\widehat{\\mathbf{Az}}) - sin(\\varphi)⋅cos(\\lambda)⋅cos(\\wid\n",
       "⎢                                                                             \n",
       "⎢sin(\\lambda)⋅cos(\\widehat{\\mathbf{Az}}) - sin(\\varphi)⋅sin(\\widehat{\\mathbf{A\n",
       "⎢                                                                             \n",
       "⎣                                   cos(\\lambda)⋅cos(\\varphi)                 \n",
       "\n",
       "ehat{\\mathbf{Az}})  cos(\\varphi)⋅cos(\\widehat{\\mathbf{Az}})  sin(\\lambda)⋅sin(\n",
       "                                                                              \n",
       "z}})⋅cos(\\lambda)   sin(\\widehat{\\mathbf{Az}})⋅cos(\\varphi)  sin(\\lambda)⋅sin(\n",
       "                                                                              \n",
       "                                 sin(\\varphi)                                 \n",
       "\n",
       "\\varphi)⋅cos(\\widehat{\\mathbf{Az}}) - sin(\\widehat{\\mathbf{Az}})⋅cos(\\lambda)⎤\n",
       "                                                                             ⎥\n",
       "\\varphi)⋅sin(\\widehat{\\mathbf{Az}}) + cos(\\lambda)⋅cos(\\widehat{\\mathbf{Az}})⎥\n",
       "                                                                             ⎥\n",
       "                 -sin(\\lambda)⋅cos(\\varphi)                                  ⎦"
      ]
     },
     "execution_count": 14,
     "metadata": {},
     "output_type": "execute_result"
    }
   ],
   "source": [
    "MatGeocentric2Norm = rot_axis3(pi/2 - azimuth) * rot_axis1(-lat) * rot_axis2(pi/2 + lon)\n",
    "MatGeocentric2Norm"
   ]
  },
  {
   "cell_type": "markdown",
   "metadata": {},
   "source": [
    "## //TODO Кинематические уравнения Эйлера"
   ]
  },
  {
   "cell_type": "code",
   "execution_count": null,
   "metadata": {},
   "outputs": [],
   "source": []
  },
  {
   "cell_type": "markdown",
   "metadata": {},
   "source": [
    "## //TODO Углы из матриц"
   ]
  },
  {
   "cell_type": "code",
   "execution_count": 15,
   "metadata": {},
   "outputs": [
    {
     "data": {
      "image/png": "[encoded data removed]",
      "text/latex": [
       "$\\displaystyle \\operatorname{atan_{2}}{\\left(\\sin{\\left(\\gamma \\right)} \\sin{\\left(\\vartheta \\right)} \\cos{\\left(\\psi \\right)} + \\sin{\\left(\\psi \\right)} \\cos{\\left(\\gamma \\right)},- \\sin{\\left(\\gamma \\right)} \\cos{\\left(\\vartheta \\right)} \\right)}$"
      ],
      "text/plain": [
       "atan2(sin(\\gamma)⋅sin(\\vartheta)⋅cos(\\psi) + sin(\\psi)⋅cos(\\gamma), -sin(\\gamm\n",
       "a)⋅cos(\\vartheta))"
      ]
     },
     "metadata": {},
     "output_type": "display_data"
    },
    {
     "data": {
      "image/png": "[encoded data removed]",
      "text/latex": [
       "$\\displaystyle \\operatorname{acos}{\\left(- \\sin{\\left(\\gamma \\right)} \\sin{\\left(\\psi \\right)} \\sin{\\left(\\vartheta \\right)} + \\cos{\\left(\\gamma \\right)} \\cos{\\left(\\psi \\right)} \\right)}$"
      ],
      "text/plain": [
       "acos(-sin(\\gamma)⋅sin(\\psi)⋅sin(\\vartheta) + cos(\\gamma)⋅cos(\\psi))"
      ]
     },
     "metadata": {},
     "output_type": "display_data"
    },
    {
     "data": {
      "image/png": "[encoded data removed]",
      "text/latex": [
       "$\\displaystyle - \\operatorname{atan_{2}}{\\left(- \\sin{\\left(\\psi \\right)} \\cos{\\left(\\vartheta \\right)},\\sin{\\left(\\gamma \\right)} \\cos{\\left(\\psi \\right)} + \\sin{\\left(\\psi \\right)} \\sin{\\left(\\vartheta \\right)} \\cos{\\left(\\gamma \\right)} \\right)}$"
      ],
      "text/plain": [
       "-atan2(-sin(\\psi)⋅cos(\\vartheta), sin(\\gamma)⋅cos(\\psi) + sin(\\psi)⋅sin(\\varth\n",
       "eta)⋅cos(\\gamma))"
      ]
     },
     "metadata": {},
     "output_type": "display_data"
    }
   ],
   "source": [
    "# https://en.wikipedia.org/wiki/Rotation_formalisms_in_three_dimensions#Conversion_formulae_between_formalisms\n",
    "# TODO проверить численным расчётом исходных углов обратно\n",
    "display(atan2(MatNorm2Body[2,0],MatNorm2Body[2,1]))\n",
    "display(acos(MatNorm2Body[2,2]))\n",
    "display(-atan2(MatNorm2Body[0,2],MatNorm2Body[1,2]))"
   ]
  },
  {
   "cell_type": "code",
   "execution_count": 16,
   "metadata": {},
   "outputs": [
    {
     "data": {
      "image/png": "[encoded data removed]",
      "text/latex": [
       "$\\displaystyle \\operatorname{atan_{2}}{\\left(\\sin{\\left(\\gamma \\right)} \\sin{\\left(\\psi \\right)} - \\sin{\\left(\\vartheta \\right)} \\cos{\\left(\\gamma \\right)} \\cos{\\left(\\psi \\right)},\\cos{\\left(\\psi \\right)} \\cos{\\left(\\vartheta \\right)} \\right)}$"
      ],
      "text/plain": [
       "atan2(sin(\\gamma)⋅sin(\\psi) - sin(\\vartheta)⋅cos(\\gamma)⋅cos(\\psi), cos(\\psi)⋅\n",
       "cos(\\vartheta))"
      ]
     },
     "metadata": {},
     "output_type": "display_data"
    },
    {
     "data": {
      "image/png": "[encoded data removed]",
      "text/latex": [
       "$\\displaystyle \\operatorname{atan_{2}}{\\left(- \\sin{\\left(\\gamma \\right)} \\sin{\\left(\\vartheta \\right)} \\cos{\\left(\\psi \\right)} - \\sin{\\left(\\psi \\right)} \\cos{\\left(\\gamma \\right)},\\sqrt{\\left(- \\sin{\\left(\\gamma \\right)} \\sin{\\left(\\psi \\right)} \\sin{\\left(\\vartheta \\right)} + \\cos{\\left(\\gamma \\right)} \\cos{\\left(\\psi \\right)}\\right)^{2} + \\sin^{2}{\\left(\\gamma \\right)} \\cos^{2}{\\left(\\vartheta \\right)}} \\right)}$"
      ],
      "text/plain": [
       "     ⎛                                                                  ______\n",
       "     ⎜                                                                 ╱      \n",
       "atan2⎝-sin(\\gamma)⋅sin(\\vartheta)⋅cos(\\psi) - sin(\\psi)⋅cos(\\gamma), ╲╱  (-sin\n",
       "\n",
       "______________________________________________________________________________\n",
       "                                                          2      2            \n",
       "(\\gamma)⋅sin(\\psi)⋅sin(\\vartheta) + cos(\\gamma)⋅cos(\\psi))  + sin (\\gamma)⋅cos\n",
       "\n",
       "_____________⎞\n",
       "2            ⎟\n",
       " (\\vartheta) ⎠"
      ]
     },
     "metadata": {},
     "output_type": "display_data"
    },
    {
     "data": {
      "image/png": "[encoded data removed]",
      "text/latex": [
       "$\\displaystyle \\operatorname{atan_{2}}{\\left(- \\sin{\\left(\\gamma \\right)} \\cos{\\left(\\vartheta \\right)},- \\sin{\\left(\\gamma \\right)} \\sin{\\left(\\psi \\right)} \\sin{\\left(\\vartheta \\right)} + \\cos{\\left(\\gamma \\right)} \\cos{\\left(\\psi \\right)} \\right)}$"
      ],
      "text/plain": [
       "atan2(-sin(\\gamma)⋅cos(\\vartheta), -sin(\\gamma)⋅sin(\\psi)⋅sin(\\vartheta) + cos\n",
       "(\\gamma)⋅cos(\\psi))"
      ]
     },
     "metadata": {},
     "output_type": "display_data"
    }
   ],
   "source": [
    "# https://stackoverflow.com/a/37558238/12691808\n",
    "# TODO проверить численным расчётом исходных углов обратно\n",
    "display( atan2(MatNorm2Body[1,0], MatNorm2Body[0,0]) ) # yaw\n",
    "display( atan2(-MatNorm2Body[2,0], sqrt( MatNorm2Body[2,1]**2+MatNorm2Body[2,2]**2 ) ) ) # pitch\n",
    "display( atan2(MatNorm2Body[2,1], MatNorm2Body[2,2]) ) # roll"
   ]
  },
  {
   "cell_type": "code",
   "execution_count": null,
   "metadata": {},
   "outputs": [],
   "source": []
  }
 ],
 "metadata": {
  "kernelspec": {
   "display_name": "Python 3 (ipykernel)",
   "language": "python",
   "name": "python3"
  },
  "language_info": {
   "codemirror_mode": {
    "name": "ipython",
    "version": 3
   },
   "file_extension": ".py",
   "mimetype": "text/x-python",
   "name": "python",
   "nbconvert_exporter": "python",
   "pygments_lexer": "ipython3",
   "version": "3.9.12"
  }
 },
 "nbformat": 4,
 "nbformat_minor": 4
}
