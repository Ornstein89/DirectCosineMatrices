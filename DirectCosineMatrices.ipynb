{
 "cells": [
  {
   "cell_type": "markdown",
   "metadata": {},
   "source": [
    "# Матрицы направляющих косинусов"
   ]
  },
  {
   "cell_type": "markdown",
   "metadata": {},
   "source": [
    "## Инициализация"
   ]
  },
  {
   "cell_type": "code",
   "execution_count": 2,
   "metadata": {},
   "outputs": [],
   "source": [
    "%config IPCompleter.greedy=True\n",
    "# %matplotlib inline\n",
    "%matplotlib notebook\n",
    "import sympy as sp\n",
    "from sympy import *\n",
    "from sympy.interactive import printing\n",
    "from sympy import pi\n",
    "from sympy.matrices import rot_axis1, rot_axis2, rot_axis3\n",
    "from ipywidgets import *\n",
    "import matplotlib.pyplot as plt\n",
    "from mpl_toolkits.mplot3d import axes3d   \n",
    "import numpy as np\n",
    "# init_printing(use_unicode=True)\n",
    "init_printing(use_latex=True)"
   ]
  },
  {
   "cell_type": "code",
   "execution_count": 3,
   "metadata": {},
   "outputs": [
    {
     "data": {
      "image/png": "[encoded data removed]",
      "text/latex": [
       "$\\displaystyle \\left( \\gamma, \\  \\vartheta, \\  \\psi, \\  \\Theta, \\  \\Psi, \\  \\varphi, \\  \\lambda, \\  h, \\  \\widehat{\\mathbf{Az}}, \\  \\alpha, \\  \\beta, \\  \\alpha_п, \\  \\gamma_п, \\  \\gamma_s\\right)$"
      ],
      "text/plain": [
       "(\\gamma, \\vartheta, \\psi, \\Theta, \\Psi, \\varphi, \\lambda, h, \\widehat{\\mathbf{\n",
       "Az}}, \\alpha, \\beta, \\alpha_п, \\gamma_п, \\gammaₛ)"
      ]
     },
     "execution_count": 3,
     "metadata": {},
     "output_type": "execute_result"
    }
   ],
   "source": [
    "roll, pitch, yaw = symbols('\\\\gamma \\\\vartheta \\\\psi')\n",
    "lat, lon, alt, azimuth = symbols('\\\\varphi \\\\lambda h \\\\widehat{\\\\mathbf{Az}}')\n",
    "\n",
    "alpha, beta = symbols(\"\\\\alpha \\\\beta\")\n",
    "alpha_p, gamma_p, gamma_s = symbols(\"\\\\alpha_п \\\\gamma_п \\\\gamma_s\")\n",
    "Theta, Psi = symbols(\"\\\\Theta \\\\Psi\")\n",
    "lat, lon, alt, azimuth = symbols('\\\\varphi \\\\lambda h \\\\widehat{\\\\mathbf{Az}}')\n",
    "\n",
    "(roll, pitch, yaw,\n",
    " Theta, Psi,\n",
    " lat, lon, alt, azimuth,\n",
    " alpha, beta,\n",
    " alpha_p, gamma_p, gamma_s)"
   ]
  },
  {
   "cell_type": "markdown",
   "metadata": {},
   "source": [
    "## НЗСК <-> связанная/Earth -> body"
   ]
  },
  {
   "cell_type": "code",
   "execution_count": 4,
   "metadata": {},
   "outputs": [
    {
     "data": {
      "text/latex": [
       "$\\displaystyle \\left[\\begin{matrix}\\cos{\\left(\\psi \\right)} \\cos{\\left(\\vartheta \\right)} & \\sin{\\left(\\vartheta \\right)} & - \\sin{\\left(\\psi \\right)} \\cos{\\left(\\vartheta \\right)}\\\\\\sin{\\left(\\gamma \\right)} \\sin{\\left(\\psi \\right)} - \\sin{\\left(\\vartheta \\right)} \\cos{\\left(\\gamma \\right)} \\cos{\\left(\\psi \\right)} & \\cos{\\left(\\gamma \\right)} \\cos{\\left(\\vartheta \\right)} & \\sin{\\left(\\gamma \\right)} \\cos{\\left(\\psi \\right)} + \\sin{\\left(\\psi \\right)} \\sin{\\left(\\vartheta \\right)} \\cos{\\left(\\gamma \\right)}\\\\\\sin{\\left(\\gamma \\right)} \\sin{\\left(\\vartheta \\right)} \\cos{\\left(\\psi \\right)} + \\sin{\\left(\\psi \\right)} \\cos{\\left(\\gamma \\right)} & - \\sin{\\left(\\gamma \\right)} \\cos{\\left(\\vartheta \\right)} & - \\sin{\\left(\\gamma \\right)} \\sin{\\left(\\psi \\right)} \\sin{\\left(\\vartheta \\right)} + \\cos{\\left(\\gamma \\right)} \\cos{\\left(\\psi \\right)}\\end{matrix}\\right]$"
      ],
      "text/plain": [
       "⎡                  cos(\\psi)⋅cos(\\vartheta)                          sin(\\vart\n",
       "⎢                                                                             \n",
       "⎢sin(\\gamma)⋅sin(\\psi) - sin(\\vartheta)⋅cos(\\gamma)⋅cos(\\psi)  cos(\\gamma)⋅cos\n",
       "⎢                                                                             \n",
       "⎣sin(\\gamma)⋅sin(\\vartheta)⋅cos(\\psi) + sin(\\psi)⋅cos(\\gamma)  -sin(\\gamma)⋅co\n",
       "\n",
       "heta)                           -sin(\\psi)⋅cos(\\vartheta)                  ⎤\n",
       "                                                                           ⎥\n",
       "(\\vartheta)   sin(\\gamma)⋅cos(\\psi) + sin(\\psi)⋅sin(\\vartheta)⋅cos(\\gamma) ⎥\n",
       "                                                                           ⎥\n",
       "s(\\vartheta)  -sin(\\gamma)⋅sin(\\psi)⋅sin(\\vartheta) + cos(\\gamma)⋅cos(\\psi)⎦"
      ]
     },
     "execution_count": 4,
     "metadata": {},
     "output_type": "execute_result"
    }
   ],
   "source": [
    "# результат совпадает с Дмитриевским\n",
    "MatNorm2Body=rot_axis1(roll) * rot_axis3(pitch) * rot_axis2(yaw)\n",
    "MatNorm2Body"
   ]
  },
  {
   "cell_type": "markdown",
   "metadata": {},
   "source": [
    "## НЗСК <-> траекторная"
   ]
  },
  {
   "cell_type": "code",
   "execution_count": 5,
   "metadata": {},
   "outputs": [
    {
     "data": {
      "text/latex": [
       "$\\displaystyle \\left[\\begin{matrix}\\cos{\\left(\\Psi \\right)} \\cos{\\left(\\Theta \\right)} & \\sin{\\left(\\Theta \\right)} & - \\sin{\\left(\\Psi \\right)} \\cos{\\left(\\Theta \\right)}\\\\- \\sin{\\left(\\Theta \\right)} \\cos{\\left(\\Psi \\right)} & \\cos{\\left(\\Theta \\right)} & \\sin{\\left(\\Psi \\right)} \\sin{\\left(\\Theta \\right)}\\\\\\sin{\\left(\\Psi \\right)} & 0 & \\cos{\\left(\\Psi \\right)}\\end{matrix}\\right]$"
      ],
      "text/plain": [
       "⎡cos(\\Psi)⋅cos(\\Theta)   sin(\\Theta)  -sin(\\Psi)⋅cos(\\Theta)⎤\n",
       "⎢                                                           ⎥\n",
       "⎢-sin(\\Theta)⋅cos(\\Psi)  cos(\\Theta)  sin(\\Psi)⋅sin(\\Theta) ⎥\n",
       "⎢                                                           ⎥\n",
       "⎣      sin(\\Psi)              0             cos(\\Psi)       ⎦"
      ]
     },
     "execution_count": 5,
     "metadata": {},
     "output_type": "execute_result"
    }
   ],
   "source": [
    "# результат совпадает с Дмитриевским\n",
    "MatTraj2Norm= rot_axis3(Theta) * rot_axis2(Psi)\n",
    "# MatTraj2Norm=MatTraj2Norm.transpose()\n",
    "MatTraj2Norm"
   ]
  },
  {
   "cell_type": "markdown",
   "metadata": {},
   "source": [
    "## Скоростная -> траекторная"
   ]
  },
  {
   "cell_type": "code",
   "execution_count": 6,
   "metadata": {},
   "outputs": [
    {
     "data": {
      "text/latex": [
       "$\\displaystyle \\left[\\begin{matrix}1 & 0 & 0\\\\0 & \\cos{\\left(\\gamma_s \\right)} & - \\sin{\\left(\\gamma_s \\right)}\\\\0 & \\sin{\\left(\\gamma_s \\right)} & \\cos{\\left(\\gamma_s \\right)}\\end{matrix}\\right]$"
      ],
      "text/plain": [
       "⎡1       0              0      ⎤\n",
       "⎢                              ⎥\n",
       "⎢0  cos(\\gammaₛ)  -sin(\\gammaₛ)⎥\n",
       "⎢                              ⎥\n",
       "⎣0  sin(\\gammaₛ)  cos(\\gammaₛ) ⎦"
      ]
     },
     "execution_count": 6,
     "metadata": {},
     "output_type": "execute_result"
    }
   ],
   "source": [
    "# проверена по Дмитриевскому\n",
    "MatWind2Traj = rot_axis1(-gamma_s)\n",
    "MatWind2Traj"
   ]
  },
  {
   "cell_type": "markdown",
   "metadata": {},
   "source": [
    "## Связанная -> связанная с пространственным углом атаки/Body -> Spatial AOA"
   ]
  },
  {
   "cell_type": "code",
   "execution_count": 10,
   "metadata": {},
   "outputs": [
    {
     "data": {
      "text/latex": [
       "$\\displaystyle \\left[\\begin{matrix}\\cos{\\left(\\alpha_п \\right)} & - \\sin{\\left(\\alpha_п \\right)} \\cos{\\left(\\gamma_п \\right)} & - \\sin{\\left(\\alpha_п \\right)} \\sin{\\left(\\gamma_п \\right)}\\\\\\sin{\\left(\\alpha_п \\right)} & \\cos{\\left(\\alpha_п \\right)} \\cos{\\left(\\gamma_п \\right)} & \\sin{\\left(\\gamma_п \\right)} \\cos{\\left(\\alpha_п \\right)}\\\\0 & - \\sin{\\left(\\gamma_п \\right)} & \\cos{\\left(\\gamma_п \\right)}\\end{matrix}\\right]$"
      ],
      "text/plain": [
       "⎡cos(\\alpha_п)  -sin(\\alpha_п)⋅cos(\\gamma_п)  -sin(\\alpha_п)⋅sin(\\gamma_п)⎤\n",
       "⎢                                                                         ⎥\n",
       "⎢sin(\\alpha_п)  cos(\\alpha_п)⋅cos(\\gamma_п)   sin(\\gamma_п)⋅cos(\\alpha_п) ⎥\n",
       "⎢                                                                         ⎥\n",
       "⎣      0               -sin(\\gamma_п)                cos(\\gamma_п)        ⎦"
      ]
     },
     "execution_count": 10,
     "metadata": {},
     "output_type": "execute_result"
    }
   ],
   "source": [
    "# НЕ ПРОВЕРЕНА - нет источников\n",
    "# проверена по отдельным матрицам\n",
    "MatBody2Spatial = rot_axis3(-alpha_p) * rot_axis1(gamma_p)\n",
    "MatBody2Spatial"
   ]
  },
  {
   "cell_type": "markdown",
   "metadata": {},
   "source": [
    "## Связанная -> скоростная/body -> wind"
   ]
  },
  {
   "cell_type": "code",
   "execution_count": 8,
   "metadata": {},
   "outputs": [
    {
     "data": {
      "text/latex": [
       "$\\displaystyle \\left[\\begin{matrix}\\cos{\\left(\\alpha \\right)} \\cos{\\left(\\beta \\right)} & - \\sin{\\left(\\alpha \\right)} \\cos{\\left(\\beta \\right)} & \\sin{\\left(\\beta \\right)}\\\\\\sin{\\left(\\alpha \\right)} & \\cos{\\left(\\alpha \\right)} & 0\\\\- \\sin{\\left(\\beta \\right)} \\cos{\\left(\\alpha \\right)} & \\sin{\\left(\\alpha \\right)} \\sin{\\left(\\beta \\right)} & \\cos{\\left(\\beta \\right)}\\end{matrix}\\right]$"
      ],
      "text/plain": [
       "⎡cos(\\alpha)⋅cos(\\beta)   -sin(\\alpha)⋅cos(\\beta)  sin(\\beta)⎤\n",
       "⎢                                                            ⎥\n",
       "⎢      sin(\\alpha)              cos(\\alpha)            0     ⎥\n",
       "⎢                                                            ⎥\n",
       "⎣-sin(\\beta)⋅cos(\\alpha)  sin(\\alpha)⋅sin(\\beta)   cos(\\beta)⎦"
      ]
     },
     "execution_count": 8,
     "metadata": {},
     "output_type": "execute_result"
    }
   ],
   "source": [
    "# проверена по ГОСТ\n",
    "MatBodyToWind = rot_axis2(-beta) * rot_axis3(-alpha)\n",
    "MatBodyToWind"
   ]
  },
  {
   "cell_type": "markdown",
   "metadata": {},
   "source": [
    "## Геоцентрическая -> нормальная СК/ECEF -> Earth"
   ]
  },
  {
   "cell_type": "code",
   "execution_count": 9,
   "metadata": {},
   "outputs": [
    {
     "data": {
      "text/latex": [
       "$\\displaystyle \\left[\\begin{matrix}- \\sin{\\left(\\lambda \\right)} \\sin{\\left(\\widehat{\\mathbf{Az}} \\right)} - \\sin{\\left(\\varphi \\right)} \\cos{\\left(\\lambda \\right)} \\cos{\\left(\\widehat{\\mathbf{Az}} \\right)} & \\cos{\\left(\\varphi \\right)} \\cos{\\left(\\widehat{\\mathbf{Az}} \\right)} & \\sin{\\left(\\lambda \\right)} \\sin{\\left(\\varphi \\right)} \\cos{\\left(\\widehat{\\mathbf{Az}} \\right)} - \\sin{\\left(\\widehat{\\mathbf{Az}} \\right)} \\cos{\\left(\\lambda \\right)}\\\\\\sin{\\left(\\lambda \\right)} \\cos{\\left(\\widehat{\\mathbf{Az}} \\right)} - \\sin{\\left(\\varphi \\right)} \\sin{\\left(\\widehat{\\mathbf{Az}} \\right)} \\cos{\\left(\\lambda \\right)} & \\sin{\\left(\\widehat{\\mathbf{Az}} \\right)} \\cos{\\left(\\varphi \\right)} & \\sin{\\left(\\lambda \\right)} \\sin{\\left(\\varphi \\right)} \\sin{\\left(\\widehat{\\mathbf{Az}} \\right)} + \\cos{\\left(\\lambda \\right)} \\cos{\\left(\\widehat{\\mathbf{Az}} \\right)}\\\\\\cos{\\left(\\lambda \\right)} \\cos{\\left(\\varphi \\right)} & \\sin{\\left(\\varphi \\right)} & - \\sin{\\left(\\lambda \\right)} \\cos{\\left(\\varphi \\right)}\\end{matrix}\\right]$"
      ],
      "text/plain": [
       "⎡-sin(\\lambda)⋅sin(\\widehat{\\mathbf{Az}}) - sin(\\varphi)⋅cos(\\lambda)⋅cos(\\wid\n",
       "⎢                                                                             \n",
       "⎢sin(\\lambda)⋅cos(\\widehat{\\mathbf{Az}}) - sin(\\varphi)⋅sin(\\widehat{\\mathbf{A\n",
       "⎢                                                                             \n",
       "⎣                                   cos(\\lambda)⋅cos(\\varphi)                 \n",
       "\n",
       "ehat{\\mathbf{Az}})  cos(\\varphi)⋅cos(\\widehat{\\mathbf{Az}})  sin(\\lambda)⋅sin(\n",
       "                                                                              \n",
       "z}})⋅cos(\\lambda)   sin(\\widehat{\\mathbf{Az}})⋅cos(\\varphi)  sin(\\lambda)⋅sin(\n",
       "                                                                              \n",
       "                                 sin(\\varphi)                                 \n",
       "\n",
       "\\varphi)⋅cos(\\widehat{\\mathbf{Az}}) - sin(\\widehat{\\mathbf{Az}})⋅cos(\\lambda)⎤\n",
       "                                                                             ⎥\n",
       "\\varphi)⋅sin(\\widehat{\\mathbf{Az}}) + cos(\\lambda)⋅cos(\\widehat{\\mathbf{Az}})⎥\n",
       "                                                                             ⎥\n",
       "                 -sin(\\lambda)⋅cos(\\varphi)                                  ⎦"
      ]
     },
     "execution_count": 9,
     "metadata": {},
     "output_type": "execute_result"
    }
   ],
   "source": [
    "MatGeocentric2Norm = rot_axis3(pi/2 - azimuth) * rot_axis1(-lat) * rot_axis2(pi/2 + lon)\n",
    "MatGeocentric2Norm"
   ]
  },
  {
   "cell_type": "code",
   "execution_count": null,
   "metadata": {},
   "outputs": [],
   "source": []
  },
  {
   "cell_type": "code",
   "execution_count": null,
   "metadata": {},
   "outputs": [],
   "source": []
  }
 ],
 "metadata": {
  "kernelspec": {
   "display_name": "Python 3",
   "language": "python",
   "name": "python3"
  },
  "language_info": {
   "codemirror_mode": {
    "name": "ipython",
    "version": 3
   },
   "file_extension": ".py",
   "mimetype": "text/x-python",
   "name": "python",
   "nbconvert_exporter": "python",
   "pygments_lexer": "ipython3",
   "version": "3.7.1"
  }
 },
 "nbformat": 4,
 "nbformat_minor": 2
}
